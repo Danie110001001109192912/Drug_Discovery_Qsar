{
  "nbformat": 4,
  "nbformat_minor": 0,
  "metadata": {
    "colab": {
      "provenance": [],
      "collapsed_sections": [
        "d08Qjya3Zvx3"
      ],
      "mount_file_id": "1Gxe59kr0370lzMutUUAHSKHalJjxDiDV",
      "authorship_tag": "ABX9TyM7P5bfBpp7/OJIpj21goFC",
      "include_colab_link": true
    },
    "kernelspec": {
      "name": "python3",
      "display_name": "Python 3"
    },
    "language_info": {
      "name": "python"
    }
  },
  "cells": [
    {
      "cell_type": "markdown",
      "metadata": {
        "id": "view-in-github",
        "colab_type": "text"
      },
      "source": [
        "<a href=\"https://colab.research.google.com/github/Danie110001001109192912/Drug_Discovery_Qsar_covid/blob/main/qsar_alzheimer_drug_discovery.ipynb\" target=\"_parent\"><img src=\"https://colab.research.google.com/assets/colab-badge.svg\" alt=\"Open In Colab\"/></a>"
      ]
    },
    {
      "cell_type": "markdown",
      "source": [
        "# Computational Drug Discovery\n",
        "## Download Bioactivity data"
      ],
      "metadata": {
        "id": "NOpaDVxCeluB"
      }
    },
    {
      "cell_type": "markdown",
      "source": [
        "Downloading chemble web resource client"
      ],
      "metadata": {
        "id": "GuOf8tVgKp_9"
      }
    },
    {
      "cell_type": "code",
      "execution_count": 1,
      "metadata": {
        "id": "YZOHIZCU9ZX8",
        "colab": {
          "base_uri": "https://localhost:8080/"
        },
        "outputId": "60217958-7c65-4744-d39e-904f91679cba"
      },
      "outputs": [
        {
          "output_type": "stream",
          "name": "stdout",
          "text": [
            "Collecting chembl_webresource_client\n",
            "  Downloading chembl_webresource_client-0.10.8-py3-none-any.whl (55 kB)\n",
            "\u001b[2K     \u001b[90m━━━━━━━━━━━━━━━━━━━━━━━━━━━━━━━━━━━━━━━━\u001b[0m \u001b[32m55.2/55.2 kB\u001b[0m \u001b[31m2.0 MB/s\u001b[0m eta \u001b[36m0:00:00\u001b[0m\n",
            "\u001b[?25hRequirement already satisfied: urllib3 in /usr/local/lib/python3.10/dist-packages (from chembl_webresource_client) (2.0.6)\n",
            "Requirement already satisfied: requests>=2.18.4 in /usr/local/lib/python3.10/dist-packages (from chembl_webresource_client) (2.31.0)\n",
            "Collecting requests-cache~=0.7.0 (from chembl_webresource_client)\n",
            "  Downloading requests_cache-0.7.5-py3-none-any.whl (39 kB)\n",
            "Requirement already satisfied: easydict in /usr/local/lib/python3.10/dist-packages (from chembl_webresource_client) (1.10)\n",
            "Requirement already satisfied: charset-normalizer<4,>=2 in /usr/local/lib/python3.10/dist-packages (from requests>=2.18.4->chembl_webresource_client) (3.3.0)\n",
            "Requirement already satisfied: idna<4,>=2.5 in /usr/local/lib/python3.10/dist-packages (from requests>=2.18.4->chembl_webresource_client) (3.4)\n",
            "Requirement already satisfied: certifi>=2017.4.17 in /usr/local/lib/python3.10/dist-packages (from requests>=2.18.4->chembl_webresource_client) (2023.7.22)\n",
            "Collecting attrs<22.0,>=21.2 (from requests-cache~=0.7.0->chembl_webresource_client)\n",
            "  Downloading attrs-21.4.0-py2.py3-none-any.whl (60 kB)\n",
            "\u001b[2K     \u001b[90m━━━━━━━━━━━━━━━━━━━━━━━━━━━━━━━━━━━━━━━━\u001b[0m \u001b[32m60.6/60.6 kB\u001b[0m \u001b[31m6.5 MB/s\u001b[0m eta \u001b[36m0:00:00\u001b[0m\n",
            "\u001b[?25hRequirement already satisfied: itsdangerous>=2.0.1 in /usr/local/lib/python3.10/dist-packages (from requests-cache~=0.7.0->chembl_webresource_client) (2.1.2)\n",
            "Requirement already satisfied: pyyaml>=5.4 in /usr/local/lib/python3.10/dist-packages (from requests-cache~=0.7.0->chembl_webresource_client) (6.0.1)\n",
            "Collecting url-normalize<2.0,>=1.4 (from requests-cache~=0.7.0->chembl_webresource_client)\n",
            "  Downloading url_normalize-1.4.3-py2.py3-none-any.whl (6.8 kB)\n",
            "Requirement already satisfied: six in /usr/local/lib/python3.10/dist-packages (from url-normalize<2.0,>=1.4->requests-cache~=0.7.0->chembl_webresource_client) (1.16.0)\n",
            "Installing collected packages: url-normalize, attrs, requests-cache, chembl_webresource_client\n",
            "  Attempting uninstall: attrs\n",
            "    Found existing installation: attrs 23.1.0\n",
            "    Uninstalling attrs-23.1.0:\n",
            "      Successfully uninstalled attrs-23.1.0\n",
            "\u001b[31mERROR: pip's dependency resolver does not currently take into account all the packages that are installed. This behaviour is the source of the following dependency conflicts.\n",
            "jsonschema 4.19.1 requires attrs>=22.2.0, but you have attrs 21.4.0 which is incompatible.\n",
            "referencing 0.30.2 requires attrs>=22.2.0, but you have attrs 21.4.0 which is incompatible.\u001b[0m\u001b[31m\n",
            "\u001b[0mSuccessfully installed attrs-21.4.0 chembl_webresource_client-0.10.8 requests-cache-0.7.5 url-normalize-1.4.3\n"
          ]
        }
      ],
      "source": [
        "! pip install chembl_webresource_client"
      ]
    },
    {
      "cell_type": "markdown",
      "source": [
        "## importing liberies"
      ],
      "metadata": {
        "id": "b6CfTf3IK_CL"
      }
    },
    {
      "cell_type": "code",
      "source": [
        "import pandas as pd\n",
        "from chembl_webresource_client.new_client import new_client"
      ],
      "metadata": {
        "id": "oBdAyUfGMW9F"
      },
      "execution_count": 2,
      "outputs": []
    },
    {
      "cell_type": "markdown",
      "source": [
        "## Search for target protein"
      ],
      "metadata": {
        "id": "JdMCwdZCLgM9"
      }
    },
    {
      "cell_type": "code",
      "source": [
        "# target protein\n",
        "\n",
        "target = new_client.target\n",
        "target_query = target.search('acetylcholinesterase')\n",
        "target_list = pd.DataFrame.from_dict(target_query)\n",
        "target_list"
      ],
      "metadata": {
        "id": "0G-HTlBiNA61",
        "colab": {
          "base_uri": "https://localhost:8080/",
          "height": 1000
        },
        "outputId": "7df6465a-c823-4499-dca5-4b617e71cc5c"
      },
      "execution_count": 3,
      "outputs": [
        {
          "output_type": "execute_result",
          "data": {
            "text/plain": [
              "                                     cross_references  \\\n",
              "0   [{'xref_id': 'P22303', 'xref_name': None, 'xre...   \n",
              "1                                                  []   \n",
              "2                                                  []   \n",
              "3                                                  []   \n",
              "4                                                  []   \n",
              "5   [{'xref_id': 'P04058', 'xref_name': None, 'xre...   \n",
              "6   [{'xref_id': 'P21836', 'xref_name': None, 'xre...   \n",
              "7   [{'xref_id': 'P37136', 'xref_name': None, 'xre...   \n",
              "8   [{'xref_id': 'O42275', 'xref_name': None, 'xre...   \n",
              "9   [{'xref_id': 'P23795', 'xref_name': None, 'xre...   \n",
              "10                                                 []   \n",
              "11                                                 []   \n",
              "12                                                 []   \n",
              "13                                                 []   \n",
              "14                                                 []   \n",
              "15  [{'xref_id': 'Q95P20', 'xref_name': None, 'xre...   \n",
              "16                                                 []   \n",
              "17                                                 []   \n",
              "18                                                 []   \n",
              "19                                                 []   \n",
              "20                                                 []   \n",
              "21                                                 []   \n",
              "22                                                 []   \n",
              "23                                                 []   \n",
              "\n",
              "                     organism  \\\n",
              "0                Homo sapiens   \n",
              "1                Homo sapiens   \n",
              "2     Drosophila melanogaster   \n",
              "3              Bemisia tabaci   \n",
              "4   Leptinotarsa decemlineata   \n",
              "5         Torpedo californica   \n",
              "6                Mus musculus   \n",
              "7           Rattus norvegicus   \n",
              "8    Electrophorus electricus   \n",
              "9                  Bos taurus   \n",
              "10          Anopheles gambiae   \n",
              "11     Nephotettix cincticeps   \n",
              "12              Gallus gallus   \n",
              "13                Danio rerio   \n",
              "14              Aedes aegypti   \n",
              "15            Musca domestica   \n",
              "16          Rattus norvegicus   \n",
              "17        Plutella xylostella   \n",
              "18            Musca domestica   \n",
              "19  Pediculus humanus capitis   \n",
              "20          Spodoptera litura   \n",
              "21      Laodelphax striatella   \n",
              "22        Schizaphis graminum   \n",
              "23     Caenorhabditis elegans   \n",
              "\n",
              "                                            pref_name  score  \\\n",
              "0                                Acetylcholinesterase   27.0   \n",
              "1                        Cholinesterases; ACHE & BCHE   27.0   \n",
              "2                                Acetylcholinesterase   18.0   \n",
              "3                                               AChE2   16.0   \n",
              "4                                Acetylcholinesterase   16.0   \n",
              "5                                Acetylcholinesterase   15.0   \n",
              "6                                Acetylcholinesterase   15.0   \n",
              "7                                Acetylcholinesterase   15.0   \n",
              "8                                Acetylcholinesterase   15.0   \n",
              "9                                Acetylcholinesterase   15.0   \n",
              "10                               Acetylcholinesterase   15.0   \n",
              "11               Ace-orthologous acetylcholinesterase   15.0   \n",
              "12                               Acetylcholinesterase   15.0   \n",
              "13                               Acetylcholinesterase   15.0   \n",
              "14                               Acetylcholinesterase   15.0   \n",
              "15                               Acetylcholinesterase   14.0   \n",
              "16  Acetylcholinesterase and butyrylcholinesterase...   14.0   \n",
              "17                               Acetylcholinesterase   14.0   \n",
              "18                               Acetylcholinesterase   14.0   \n",
              "19                               Acetylcholinesterase   14.0   \n",
              "20                               Acetylcholinesterase   14.0   \n",
              "21                               Acetylcholinesterase   14.0   \n",
              "22                               Acetylcholinesterase   14.0   \n",
              "23                             Acetylcholinesterase 1   14.0   \n",
              "\n",
              "    species_group_flag target_chembl_id  \\\n",
              "0                False        CHEMBL220   \n",
              "1                False    CHEMBL2095233   \n",
              "2                False    CHEMBL2242744   \n",
              "3                False    CHEMBL2366409   \n",
              "4                False    CHEMBL2366490   \n",
              "5                False       CHEMBL4780   \n",
              "6                False       CHEMBL3198   \n",
              "7                False       CHEMBL3199   \n",
              "8                False       CHEMBL4078   \n",
              "9                False       CHEMBL4768   \n",
              "10               False    CHEMBL2046266   \n",
              "11               False    CHEMBL2366514   \n",
              "12               False    CHEMBL3227914   \n",
              "13               False    CHEMBL3308995   \n",
              "14               False    CHEMBL4295607   \n",
              "15               False       CHEMBL5752   \n",
              "16               False    CHEMBL2111475   \n",
              "17               False    CHEMBL2242729   \n",
              "18               False    CHEMBL2242743   \n",
              "19               False    CHEMBL2362988   \n",
              "20               False    CHEMBL2366422   \n",
              "21               False    CHEMBL2366446   \n",
              "22               False    CHEMBL2366511   \n",
              "23               False    CHEMBL3341583   \n",
              "\n",
              "                                    target_components        target_type  \\\n",
              "0   [{'accession': 'P22303', 'component_descriptio...     SINGLE PROTEIN   \n",
              "1   [{'accession': 'P06276', 'component_descriptio...  SELECTIVITY GROUP   \n",
              "2   [{'accession': 'P07140', 'component_descriptio...     SINGLE PROTEIN   \n",
              "3   [{'accession': 'B3SST5', 'component_descriptio...     SINGLE PROTEIN   \n",
              "4   [{'accession': 'Q27677', 'component_descriptio...     SINGLE PROTEIN   \n",
              "5   [{'accession': 'P04058', 'component_descriptio...     SINGLE PROTEIN   \n",
              "6   [{'accession': 'P21836', 'component_descriptio...     SINGLE PROTEIN   \n",
              "7   [{'accession': 'P37136', 'component_descriptio...     SINGLE PROTEIN   \n",
              "8   [{'accession': 'O42275', 'component_descriptio...     SINGLE PROTEIN   \n",
              "9   [{'accession': 'P23795', 'component_descriptio...     SINGLE PROTEIN   \n",
              "10  [{'accession': 'Q869C3', 'component_descriptio...     SINGLE PROTEIN   \n",
              "11  [{'accession': 'Q9NJH6', 'component_descriptio...     SINGLE PROTEIN   \n",
              "12  [{'accession': 'P36196', 'component_descriptio...     SINGLE PROTEIN   \n",
              "13  [{'accession': 'Q9DDE3', 'component_descriptio...     SINGLE PROTEIN   \n",
              "14  [{'accession': 'Q6A2E2', 'component_descriptio...     SINGLE PROTEIN   \n",
              "15  [{'accession': 'Q95P20', 'component_descriptio...     SINGLE PROTEIN   \n",
              "16  [{'accession': 'P37136', 'component_descriptio...  SELECTIVITY GROUP   \n",
              "17  [{'accession': 'Q8MZM0', 'component_descriptio...     SINGLE PROTEIN   \n",
              "18  [{'accession': 'Q7YWJ9', 'component_descriptio...     SINGLE PROTEIN   \n",
              "19  [{'accession': 'A2PZ98', 'component_descriptio...     SINGLE PROTEIN   \n",
              "20  [{'accession': 'C5IU80', 'component_descriptio...     SINGLE PROTEIN   \n",
              "21  [{'accession': 'K4JQ36', 'component_descriptio...     SINGLE PROTEIN   \n",
              "22  [{'accession': 'Q9BMJ1', 'component_descriptio...     SINGLE PROTEIN   \n",
              "23  [{'accession': 'P38433', 'component_descriptio...     SINGLE PROTEIN   \n",
              "\n",
              "    tax_id  \n",
              "0     9606  \n",
              "1     9606  \n",
              "2     7227  \n",
              "3     7038  \n",
              "4     7539  \n",
              "5     7787  \n",
              "6    10090  \n",
              "7    10116  \n",
              "8     8005  \n",
              "9     9913  \n",
              "10    7165  \n",
              "11   94400  \n",
              "12    9031  \n",
              "13    7955  \n",
              "14    7159  \n",
              "15    7370  \n",
              "16   10116  \n",
              "17   51655  \n",
              "18    7370  \n",
              "19  121226  \n",
              "20   69820  \n",
              "21  195883  \n",
              "22   13262  \n",
              "23    6239  "
            ],
            "text/html": [
              "\n",
              "  <div id=\"df-8905c664-4a83-4353-aabc-bf9bb188865e\" class=\"colab-df-container\">\n",
              "    <div>\n",
              "<style scoped>\n",
              "    .dataframe tbody tr th:only-of-type {\n",
              "        vertical-align: middle;\n",
              "    }\n",
              "\n",
              "    .dataframe tbody tr th {\n",
              "        vertical-align: top;\n",
              "    }\n",
              "\n",
              "    .dataframe thead th {\n",
              "        text-align: right;\n",
              "    }\n",
              "</style>\n",
              "<table border=\"1\" class=\"dataframe\">\n",
              "  <thead>\n",
              "    <tr style=\"text-align: right;\">\n",
              "      <th></th>\n",
              "      <th>cross_references</th>\n",
              "      <th>organism</th>\n",
              "      <th>pref_name</th>\n",
              "      <th>score</th>\n",
              "      <th>species_group_flag</th>\n",
              "      <th>target_chembl_id</th>\n",
              "      <th>target_components</th>\n",
              "      <th>target_type</th>\n",
              "      <th>tax_id</th>\n",
              "    </tr>\n",
              "  </thead>\n",
              "  <tbody>\n",
              "    <tr>\n",
              "      <th>0</th>\n",
              "      <td>[{'xref_id': 'P22303', 'xref_name': None, 'xre...</td>\n",
              "      <td>Homo sapiens</td>\n",
              "      <td>Acetylcholinesterase</td>\n",
              "      <td>27.0</td>\n",
              "      <td>False</td>\n",
              "      <td>CHEMBL220</td>\n",
              "      <td>[{'accession': 'P22303', 'component_descriptio...</td>\n",
              "      <td>SINGLE PROTEIN</td>\n",
              "      <td>9606</td>\n",
              "    </tr>\n",
              "    <tr>\n",
              "      <th>1</th>\n",
              "      <td>[]</td>\n",
              "      <td>Homo sapiens</td>\n",
              "      <td>Cholinesterases; ACHE &amp; BCHE</td>\n",
              "      <td>27.0</td>\n",
              "      <td>False</td>\n",
              "      <td>CHEMBL2095233</td>\n",
              "      <td>[{'accession': 'P06276', 'component_descriptio...</td>\n",
              "      <td>SELECTIVITY GROUP</td>\n",
              "      <td>9606</td>\n",
              "    </tr>\n",
              "    <tr>\n",
              "      <th>2</th>\n",
              "      <td>[]</td>\n",
              "      <td>Drosophila melanogaster</td>\n",
              "      <td>Acetylcholinesterase</td>\n",
              "      <td>18.0</td>\n",
              "      <td>False</td>\n",
              "      <td>CHEMBL2242744</td>\n",
              "      <td>[{'accession': 'P07140', 'component_descriptio...</td>\n",
              "      <td>SINGLE PROTEIN</td>\n",
              "      <td>7227</td>\n",
              "    </tr>\n",
              "    <tr>\n",
              "      <th>3</th>\n",
              "      <td>[]</td>\n",
              "      <td>Bemisia tabaci</td>\n",
              "      <td>AChE2</td>\n",
              "      <td>16.0</td>\n",
              "      <td>False</td>\n",
              "      <td>CHEMBL2366409</td>\n",
              "      <td>[{'accession': 'B3SST5', 'component_descriptio...</td>\n",
              "      <td>SINGLE PROTEIN</td>\n",
              "      <td>7038</td>\n",
              "    </tr>\n",
              "    <tr>\n",
              "      <th>4</th>\n",
              "      <td>[]</td>\n",
              "      <td>Leptinotarsa decemlineata</td>\n",
              "      <td>Acetylcholinesterase</td>\n",
              "      <td>16.0</td>\n",
              "      <td>False</td>\n",
              "      <td>CHEMBL2366490</td>\n",
              "      <td>[{'accession': 'Q27677', 'component_descriptio...</td>\n",
              "      <td>SINGLE PROTEIN</td>\n",
              "      <td>7539</td>\n",
              "    </tr>\n",
              "    <tr>\n",
              "      <th>5</th>\n",
              "      <td>[{'xref_id': 'P04058', 'xref_name': None, 'xre...</td>\n",
              "      <td>Torpedo californica</td>\n",
              "      <td>Acetylcholinesterase</td>\n",
              "      <td>15.0</td>\n",
              "      <td>False</td>\n",
              "      <td>CHEMBL4780</td>\n",
              "      <td>[{'accession': 'P04058', 'component_descriptio...</td>\n",
              "      <td>SINGLE PROTEIN</td>\n",
              "      <td>7787</td>\n",
              "    </tr>\n",
              "    <tr>\n",
              "      <th>6</th>\n",
              "      <td>[{'xref_id': 'P21836', 'xref_name': None, 'xre...</td>\n",
              "      <td>Mus musculus</td>\n",
              "      <td>Acetylcholinesterase</td>\n",
              "      <td>15.0</td>\n",
              "      <td>False</td>\n",
              "      <td>CHEMBL3198</td>\n",
              "      <td>[{'accession': 'P21836', 'component_descriptio...</td>\n",
              "      <td>SINGLE PROTEIN</td>\n",
              "      <td>10090</td>\n",
              "    </tr>\n",
              "    <tr>\n",
              "      <th>7</th>\n",
              "      <td>[{'xref_id': 'P37136', 'xref_name': None, 'xre...</td>\n",
              "      <td>Rattus norvegicus</td>\n",
              "      <td>Acetylcholinesterase</td>\n",
              "      <td>15.0</td>\n",
              "      <td>False</td>\n",
              "      <td>CHEMBL3199</td>\n",
              "      <td>[{'accession': 'P37136', 'component_descriptio...</td>\n",
              "      <td>SINGLE PROTEIN</td>\n",
              "      <td>10116</td>\n",
              "    </tr>\n",
              "    <tr>\n",
              "      <th>8</th>\n",
              "      <td>[{'xref_id': 'O42275', 'xref_name': None, 'xre...</td>\n",
              "      <td>Electrophorus electricus</td>\n",
              "      <td>Acetylcholinesterase</td>\n",
              "      <td>15.0</td>\n",
              "      <td>False</td>\n",
              "      <td>CHEMBL4078</td>\n",
              "      <td>[{'accession': 'O42275', 'component_descriptio...</td>\n",
              "      <td>SINGLE PROTEIN</td>\n",
              "      <td>8005</td>\n",
              "    </tr>\n",
              "    <tr>\n",
              "      <th>9</th>\n",
              "      <td>[{'xref_id': 'P23795', 'xref_name': None, 'xre...</td>\n",
              "      <td>Bos taurus</td>\n",
              "      <td>Acetylcholinesterase</td>\n",
              "      <td>15.0</td>\n",
              "      <td>False</td>\n",
              "      <td>CHEMBL4768</td>\n",
              "      <td>[{'accession': 'P23795', 'component_descriptio...</td>\n",
              "      <td>SINGLE PROTEIN</td>\n",
              "      <td>9913</td>\n",
              "    </tr>\n",
              "    <tr>\n",
              "      <th>10</th>\n",
              "      <td>[]</td>\n",
              "      <td>Anopheles gambiae</td>\n",
              "      <td>Acetylcholinesterase</td>\n",
              "      <td>15.0</td>\n",
              "      <td>False</td>\n",
              "      <td>CHEMBL2046266</td>\n",
              "      <td>[{'accession': 'Q869C3', 'component_descriptio...</td>\n",
              "      <td>SINGLE PROTEIN</td>\n",
              "      <td>7165</td>\n",
              "    </tr>\n",
              "    <tr>\n",
              "      <th>11</th>\n",
              "      <td>[]</td>\n",
              "      <td>Nephotettix cincticeps</td>\n",
              "      <td>Ace-orthologous acetylcholinesterase</td>\n",
              "      <td>15.0</td>\n",
              "      <td>False</td>\n",
              "      <td>CHEMBL2366514</td>\n",
              "      <td>[{'accession': 'Q9NJH6', 'component_descriptio...</td>\n",
              "      <td>SINGLE PROTEIN</td>\n",
              "      <td>94400</td>\n",
              "    </tr>\n",
              "    <tr>\n",
              "      <th>12</th>\n",
              "      <td>[]</td>\n",
              "      <td>Gallus gallus</td>\n",
              "      <td>Acetylcholinesterase</td>\n",
              "      <td>15.0</td>\n",
              "      <td>False</td>\n",
              "      <td>CHEMBL3227914</td>\n",
              "      <td>[{'accession': 'P36196', 'component_descriptio...</td>\n",
              "      <td>SINGLE PROTEIN</td>\n",
              "      <td>9031</td>\n",
              "    </tr>\n",
              "    <tr>\n",
              "      <th>13</th>\n",
              "      <td>[]</td>\n",
              "      <td>Danio rerio</td>\n",
              "      <td>Acetylcholinesterase</td>\n",
              "      <td>15.0</td>\n",
              "      <td>False</td>\n",
              "      <td>CHEMBL3308995</td>\n",
              "      <td>[{'accession': 'Q9DDE3', 'component_descriptio...</td>\n",
              "      <td>SINGLE PROTEIN</td>\n",
              "      <td>7955</td>\n",
              "    </tr>\n",
              "    <tr>\n",
              "      <th>14</th>\n",
              "      <td>[]</td>\n",
              "      <td>Aedes aegypti</td>\n",
              "      <td>Acetylcholinesterase</td>\n",
              "      <td>15.0</td>\n",
              "      <td>False</td>\n",
              "      <td>CHEMBL4295607</td>\n",
              "      <td>[{'accession': 'Q6A2E2', 'component_descriptio...</td>\n",
              "      <td>SINGLE PROTEIN</td>\n",
              "      <td>7159</td>\n",
              "    </tr>\n",
              "    <tr>\n",
              "      <th>15</th>\n",
              "      <td>[{'xref_id': 'Q95P20', 'xref_name': None, 'xre...</td>\n",
              "      <td>Musca domestica</td>\n",
              "      <td>Acetylcholinesterase</td>\n",
              "      <td>14.0</td>\n",
              "      <td>False</td>\n",
              "      <td>CHEMBL5752</td>\n",
              "      <td>[{'accession': 'Q95P20', 'component_descriptio...</td>\n",
              "      <td>SINGLE PROTEIN</td>\n",
              "      <td>7370</td>\n",
              "    </tr>\n",
              "    <tr>\n",
              "      <th>16</th>\n",
              "      <td>[]</td>\n",
              "      <td>Rattus norvegicus</td>\n",
              "      <td>Acetylcholinesterase and butyrylcholinesterase...</td>\n",
              "      <td>14.0</td>\n",
              "      <td>False</td>\n",
              "      <td>CHEMBL2111475</td>\n",
              "      <td>[{'accession': 'P37136', 'component_descriptio...</td>\n",
              "      <td>SELECTIVITY GROUP</td>\n",
              "      <td>10116</td>\n",
              "    </tr>\n",
              "    <tr>\n",
              "      <th>17</th>\n",
              "      <td>[]</td>\n",
              "      <td>Plutella xylostella</td>\n",
              "      <td>Acetylcholinesterase</td>\n",
              "      <td>14.0</td>\n",
              "      <td>False</td>\n",
              "      <td>CHEMBL2242729</td>\n",
              "      <td>[{'accession': 'Q8MZM0', 'component_descriptio...</td>\n",
              "      <td>SINGLE PROTEIN</td>\n",
              "      <td>51655</td>\n",
              "    </tr>\n",
              "    <tr>\n",
              "      <th>18</th>\n",
              "      <td>[]</td>\n",
              "      <td>Musca domestica</td>\n",
              "      <td>Acetylcholinesterase</td>\n",
              "      <td>14.0</td>\n",
              "      <td>False</td>\n",
              "      <td>CHEMBL2242743</td>\n",
              "      <td>[{'accession': 'Q7YWJ9', 'component_descriptio...</td>\n",
              "      <td>SINGLE PROTEIN</td>\n",
              "      <td>7370</td>\n",
              "    </tr>\n",
              "    <tr>\n",
              "      <th>19</th>\n",
              "      <td>[]</td>\n",
              "      <td>Pediculus humanus capitis</td>\n",
              "      <td>Acetylcholinesterase</td>\n",
              "      <td>14.0</td>\n",
              "      <td>False</td>\n",
              "      <td>CHEMBL2362988</td>\n",
              "      <td>[{'accession': 'A2PZ98', 'component_descriptio...</td>\n",
              "      <td>SINGLE PROTEIN</td>\n",
              "      <td>121226</td>\n",
              "    </tr>\n",
              "    <tr>\n",
              "      <th>20</th>\n",
              "      <td>[]</td>\n",
              "      <td>Spodoptera litura</td>\n",
              "      <td>Acetylcholinesterase</td>\n",
              "      <td>14.0</td>\n",
              "      <td>False</td>\n",
              "      <td>CHEMBL2366422</td>\n",
              "      <td>[{'accession': 'C5IU80', 'component_descriptio...</td>\n",
              "      <td>SINGLE PROTEIN</td>\n",
              "      <td>69820</td>\n",
              "    </tr>\n",
              "    <tr>\n",
              "      <th>21</th>\n",
              "      <td>[]</td>\n",
              "      <td>Laodelphax striatella</td>\n",
              "      <td>Acetylcholinesterase</td>\n",
              "      <td>14.0</td>\n",
              "      <td>False</td>\n",
              "      <td>CHEMBL2366446</td>\n",
              "      <td>[{'accession': 'K4JQ36', 'component_descriptio...</td>\n",
              "      <td>SINGLE PROTEIN</td>\n",
              "      <td>195883</td>\n",
              "    </tr>\n",
              "    <tr>\n",
              "      <th>22</th>\n",
              "      <td>[]</td>\n",
              "      <td>Schizaphis graminum</td>\n",
              "      <td>Acetylcholinesterase</td>\n",
              "      <td>14.0</td>\n",
              "      <td>False</td>\n",
              "      <td>CHEMBL2366511</td>\n",
              "      <td>[{'accession': 'Q9BMJ1', 'component_descriptio...</td>\n",
              "      <td>SINGLE PROTEIN</td>\n",
              "      <td>13262</td>\n",
              "    </tr>\n",
              "    <tr>\n",
              "      <th>23</th>\n",
              "      <td>[]</td>\n",
              "      <td>Caenorhabditis elegans</td>\n",
              "      <td>Acetylcholinesterase 1</td>\n",
              "      <td>14.0</td>\n",
              "      <td>False</td>\n",
              "      <td>CHEMBL3341583</td>\n",
              "      <td>[{'accession': 'P38433', 'component_descriptio...</td>\n",
              "      <td>SINGLE PROTEIN</td>\n",
              "      <td>6239</td>\n",
              "    </tr>\n",
              "  </tbody>\n",
              "</table>\n",
              "</div>\n",
              "    <div class=\"colab-df-buttons\">\n",
              "\n",
              "  <div class=\"colab-df-container\">\n",
              "    <button class=\"colab-df-convert\" onclick=\"convertToInteractive('df-8905c664-4a83-4353-aabc-bf9bb188865e')\"\n",
              "            title=\"Convert this dataframe to an interactive table.\"\n",
              "            style=\"display:none;\">\n",
              "\n",
              "  <svg xmlns=\"http://www.w3.org/2000/svg\" height=\"24px\" viewBox=\"0 -960 960 960\">\n",
              "    <path d=\"M120-120v-720h720v720H120Zm60-500h600v-160H180v160Zm220 220h160v-160H400v160Zm0 220h160v-160H400v160ZM180-400h160v-160H180v160Zm440 0h160v-160H620v160ZM180-180h160v-160H180v160Zm440 0h160v-160H620v160Z\"/>\n",
              "  </svg>\n",
              "    </button>\n",
              "\n",
              "  <style>\n",
              "    .colab-df-container {\n",
              "      display:flex;\n",
              "      gap: 12px;\n",
              "    }\n",
              "\n",
              "    .colab-df-convert {\n",
              "      background-color: #E8F0FE;\n",
              "      border: none;\n",
              "      border-radius: 50%;\n",
              "      cursor: pointer;\n",
              "      display: none;\n",
              "      fill: #1967D2;\n",
              "      height: 32px;\n",
              "      padding: 0 0 0 0;\n",
              "      width: 32px;\n",
              "    }\n",
              "\n",
              "    .colab-df-convert:hover {\n",
              "      background-color: #E2EBFA;\n",
              "      box-shadow: 0px 1px 2px rgba(60, 64, 67, 0.3), 0px 1px 3px 1px rgba(60, 64, 67, 0.15);\n",
              "      fill: #174EA6;\n",
              "    }\n",
              "\n",
              "    .colab-df-buttons div {\n",
              "      margin-bottom: 4px;\n",
              "    }\n",
              "\n",
              "    [theme=dark] .colab-df-convert {\n",
              "      background-color: #3B4455;\n",
              "      fill: #D2E3FC;\n",
              "    }\n",
              "\n",
              "    [theme=dark] .colab-df-convert:hover {\n",
              "      background-color: #434B5C;\n",
              "      box-shadow: 0px 1px 3px 1px rgba(0, 0, 0, 0.15);\n",
              "      filter: drop-shadow(0px 1px 2px rgba(0, 0, 0, 0.3));\n",
              "      fill: #FFFFFF;\n",
              "    }\n",
              "  </style>\n",
              "\n",
              "    <script>\n",
              "      const buttonEl =\n",
              "        document.querySelector('#df-8905c664-4a83-4353-aabc-bf9bb188865e button.colab-df-convert');\n",
              "      buttonEl.style.display =\n",
              "        google.colab.kernel.accessAllowed ? 'block' : 'none';\n",
              "\n",
              "      async function convertToInteractive(key) {\n",
              "        const element = document.querySelector('#df-8905c664-4a83-4353-aabc-bf9bb188865e');\n",
              "        const dataTable =\n",
              "          await google.colab.kernel.invokeFunction('convertToInteractive',\n",
              "                                                    [key], {});\n",
              "        if (!dataTable) return;\n",
              "\n",
              "        const docLinkHtml = 'Like what you see? Visit the ' +\n",
              "          '<a target=\"_blank\" href=https://colab.research.google.com/notebooks/data_table.ipynb>data table notebook</a>'\n",
              "          + ' to learn more about interactive tables.';\n",
              "        element.innerHTML = '';\n",
              "        dataTable['output_type'] = 'display_data';\n",
              "        await google.colab.output.renderOutput(dataTable, element);\n",
              "        const docLink = document.createElement('div');\n",
              "        docLink.innerHTML = docLinkHtml;\n",
              "        element.appendChild(docLink);\n",
              "      }\n",
              "    </script>\n",
              "  </div>\n",
              "\n",
              "\n",
              "<div id=\"df-e76bb561-7339-40d9-850f-a19ef2ea3201\">\n",
              "  <button class=\"colab-df-quickchart\" onclick=\"quickchart('df-e76bb561-7339-40d9-850f-a19ef2ea3201')\"\n",
              "            title=\"Suggest charts.\"\n",
              "            style=\"display:none;\">\n",
              "\n",
              "<svg xmlns=\"http://www.w3.org/2000/svg\" height=\"24px\"viewBox=\"0 0 24 24\"\n",
              "     width=\"24px\">\n",
              "    <g>\n",
              "        <path d=\"M19 3H5c-1.1 0-2 .9-2 2v14c0 1.1.9 2 2 2h14c1.1 0 2-.9 2-2V5c0-1.1-.9-2-2-2zM9 17H7v-7h2v7zm4 0h-2V7h2v10zm4 0h-2v-4h2v4z\"/>\n",
              "    </g>\n",
              "</svg>\n",
              "  </button>\n",
              "\n",
              "<style>\n",
              "  .colab-df-quickchart {\n",
              "      --bg-color: #E8F0FE;\n",
              "      --fill-color: #1967D2;\n",
              "      --hover-bg-color: #E2EBFA;\n",
              "      --hover-fill-color: #174EA6;\n",
              "      --disabled-fill-color: #AAA;\n",
              "      --disabled-bg-color: #DDD;\n",
              "  }\n",
              "\n",
              "  [theme=dark] .colab-df-quickchart {\n",
              "      --bg-color: #3B4455;\n",
              "      --fill-color: #D2E3FC;\n",
              "      --hover-bg-color: #434B5C;\n",
              "      --hover-fill-color: #FFFFFF;\n",
              "      --disabled-bg-color: #3B4455;\n",
              "      --disabled-fill-color: #666;\n",
              "  }\n",
              "\n",
              "  .colab-df-quickchart {\n",
              "    background-color: var(--bg-color);\n",
              "    border: none;\n",
              "    border-radius: 50%;\n",
              "    cursor: pointer;\n",
              "    display: none;\n",
              "    fill: var(--fill-color);\n",
              "    height: 32px;\n",
              "    padding: 0;\n",
              "    width: 32px;\n",
              "  }\n",
              "\n",
              "  .colab-df-quickchart:hover {\n",
              "    background-color: var(--hover-bg-color);\n",
              "    box-shadow: 0 1px 2px rgba(60, 64, 67, 0.3), 0 1px 3px 1px rgba(60, 64, 67, 0.15);\n",
              "    fill: var(--button-hover-fill-color);\n",
              "  }\n",
              "\n",
              "  .colab-df-quickchart-complete:disabled,\n",
              "  .colab-df-quickchart-complete:disabled:hover {\n",
              "    background-color: var(--disabled-bg-color);\n",
              "    fill: var(--disabled-fill-color);\n",
              "    box-shadow: none;\n",
              "  }\n",
              "\n",
              "  .colab-df-spinner {\n",
              "    border: 2px solid var(--fill-color);\n",
              "    border-color: transparent;\n",
              "    border-bottom-color: var(--fill-color);\n",
              "    animation:\n",
              "      spin 1s steps(1) infinite;\n",
              "  }\n",
              "\n",
              "  @keyframes spin {\n",
              "    0% {\n",
              "      border-color: transparent;\n",
              "      border-bottom-color: var(--fill-color);\n",
              "      border-left-color: var(--fill-color);\n",
              "    }\n",
              "    20% {\n",
              "      border-color: transparent;\n",
              "      border-left-color: var(--fill-color);\n",
              "      border-top-color: var(--fill-color);\n",
              "    }\n",
              "    30% {\n",
              "      border-color: transparent;\n",
              "      border-left-color: var(--fill-color);\n",
              "      border-top-color: var(--fill-color);\n",
              "      border-right-color: var(--fill-color);\n",
              "    }\n",
              "    40% {\n",
              "      border-color: transparent;\n",
              "      border-right-color: var(--fill-color);\n",
              "      border-top-color: var(--fill-color);\n",
              "    }\n",
              "    60% {\n",
              "      border-color: transparent;\n",
              "      border-right-color: var(--fill-color);\n",
              "    }\n",
              "    80% {\n",
              "      border-color: transparent;\n",
              "      border-right-color: var(--fill-color);\n",
              "      border-bottom-color: var(--fill-color);\n",
              "    }\n",
              "    90% {\n",
              "      border-color: transparent;\n",
              "      border-bottom-color: var(--fill-color);\n",
              "    }\n",
              "  }\n",
              "</style>\n",
              "\n",
              "  <script>\n",
              "    async function quickchart(key) {\n",
              "      const quickchartButtonEl =\n",
              "        document.querySelector('#' + key + ' button');\n",
              "      quickchartButtonEl.disabled = true;  // To prevent multiple clicks.\n",
              "      quickchartButtonEl.classList.add('colab-df-spinner');\n",
              "      try {\n",
              "        const charts = await google.colab.kernel.invokeFunction(\n",
              "            'suggestCharts', [key], {});\n",
              "      } catch (error) {\n",
              "        console.error('Error during call to suggestCharts:', error);\n",
              "      }\n",
              "      quickchartButtonEl.classList.remove('colab-df-spinner');\n",
              "      quickchartButtonEl.classList.add('colab-df-quickchart-complete');\n",
              "    }\n",
              "    (() => {\n",
              "      let quickchartButtonEl =\n",
              "        document.querySelector('#df-e76bb561-7339-40d9-850f-a19ef2ea3201 button');\n",
              "      quickchartButtonEl.style.display =\n",
              "        google.colab.kernel.accessAllowed ? 'block' : 'none';\n",
              "    })();\n",
              "  </script>\n",
              "</div>\n",
              "    </div>\n",
              "  </div>\n"
            ]
          },
          "metadata": {},
          "execution_count": 3
        }
      ]
    },
    {
      "cell_type": "markdown",
      "source": [
        "**Select and retrieve bioactivity data for Human Acetylcholinesterase (first entry)**"
      ],
      "metadata": {
        "id": "xVlBng5VRJRX"
      }
    },
    {
      "cell_type": "code",
      "source": [
        "target_choiced = target_list.target_chembl_id[0]\n",
        "target_choiced"
      ],
      "metadata": {
        "id": "OPg6hhDqRQXu",
        "colab": {
          "base_uri": "https://localhost:8080/",
          "height": 35
        },
        "outputId": "2e3d7cd6-882f-45aa-f4e1-290eda9290d8"
      },
      "execution_count": 4,
      "outputs": [
        {
          "output_type": "execute_result",
          "data": {
            "text/plain": [
              "'CHEMBL220'"
            ],
            "application/vnd.google.colaboratory.intrinsic+json": {
              "type": "string"
            }
          },
          "metadata": {},
          "execution_count": 4
        }
      ]
    },
    {
      "cell_type": "markdown",
      "source": [
        "Extrating the bioactivite from the target selected ( IC50 in nM uniti)\n"
      ],
      "metadata": {
        "id": "GDrnBUSpSDg1"
      }
    },
    {
      "cell_type": "code",
      "source": [
        "# that's for I have the permition of extrat these informations\n",
        "activity = new_client.activity\n",
        "\n",
        "# Now I have to get these informations of just my target of interest\n",
        "target_activity = activity.filter( target_chembl_id = target_choiced )\n",
        "\n",
        "# And them filter this data again for just the IC50 activity\n",
        "Ic50 = target_activity.filter( standart_type = \"IC50\" )\n"
      ],
      "metadata": {
        "id": "x4DfwsBQSXoq"
      },
      "execution_count": 5,
      "outputs": []
    },
    {
      "cell_type": "code",
      "source": [
        "df = pd.DataFrame.from_dict(Ic50)\n",
        "df.head(3)"
      ],
      "metadata": {
        "id": "btHYmY2sTv14"
      },
      "execution_count": null,
      "outputs": []
    },
    {
      "cell_type": "code",
      "source": [
        "df.info()"
      ],
      "metadata": {
        "id": "sD90XzWqWNwY"
      },
      "execution_count": null,
      "outputs": []
    },
    {
      "cell_type": "code",
      "source": [
        "df['standard_type'].unique()"
      ],
      "metadata": {
        "id": "1JKxlaQXWnUX"
      },
      "execution_count": null,
      "outputs": []
    },
    {
      "cell_type": "code",
      "source": [
        "df1 = df[df.standard_value.notna()]\n",
        "df1 = df1[df.canonical_smiles.notna()]\n",
        "df1"
      ],
      "metadata": {
        "id": "4agsrL_JW_-S"
      },
      "execution_count": null,
      "outputs": []
    },
    {
      "cell_type": "code",
      "source": [
        "len(df1.canonical_smiles.unique())"
      ],
      "metadata": {
        "id": "jJTB0qVcsiO1"
      },
      "execution_count": null,
      "outputs": []
    },
    {
      "cell_type": "code",
      "source": [
        "df1_nr = df2.drop_duplicates(['canonical_smiles'])\n",
        "df1_nr"
      ],
      "metadata": {
        "id": "86yv8XtlsmLe"
      },
      "execution_count": null,
      "outputs": []
    },
    {
      "cell_type": "markdown",
      "source": [
        "Save the resulting bioactivity in to CSV file"
      ],
      "metadata": {
        "id": "3n82lTGbYcHX"
      }
    },
    {
      "cell_type": "code",
      "source": [
        "df1_nr.to_csv('acetylcholinesterase_01_bioactivity_data_preprocessed.csv', index=False)\n",
        "# I have to make the index == false because I filter these data and that's index is maessy"
      ],
      "metadata": {
        "id": "_wo3uP5hYngX"
      },
      "execution_count": null,
      "outputs": []
    },
    {
      "cell_type": "markdown",
      "source": [
        "### Data pre-processing of the bioactivity data\n",
        "\n",
        "**Combine the 3 columns (molecule_chembl_id,canonical_smiles,standard_value) and bioactivity_class into a DataFrame**"
      ],
      "metadata": {
        "id": "UZMS2TXAs8us"
      }
    },
    {
      "cell_type": "code",
      "source": [
        "selection = ['molecule_chembl_id','canonical_smiles','standard_value']\n",
        "df2 = df1_nr[selection]\n",
        "df2"
      ],
      "metadata": {
        "id": "8vmMEH5ttFCt"
      },
      "execution_count": null,
      "outputs": []
    },
    {
      "cell_type": "markdown",
      "source": [
        "saving dataframe to CSV file"
      ],
      "metadata": {
        "id": "5XsgC8JctLAY"
      }
    },
    {
      "cell_type": "code",
      "source": [
        "df2.to_csv('acetylcholinesterase_02_bioactivity_data_preprocessed.csv', index=False)\n",
        ""
      ],
      "metadata": {
        "id": "vrd7ywoNtQHE"
      },
      "execution_count": null,
      "outputs": []
    },
    {
      "cell_type": "markdown",
      "source": [
        "## Copying file to google Drive"
      ],
      "metadata": {
        "id": "d08Qjya3Zvx3"
      }
    },
    {
      "cell_type": "markdown",
      "source": [
        "taking acess to my google drive"
      ],
      "metadata": {
        "id": "gEjzs1RFcOf_"
      }
    },
    {
      "cell_type": "code",
      "source": [],
      "metadata": {
        "id": "TMSe0kWYcN41"
      },
      "execution_count": null,
      "outputs": []
    },
    {
      "cell_type": "code",
      "source": [
        "from google.colab import drive\n",
        "\n",
        "# this comand make possible to colab do alterations of my drive, for one expecific file path\n",
        "\n",
        "drive.mount('/content/gdrive', force_remount = True) # force_remount is use to force it\n"
      ],
      "metadata": {
        "id": "1AukejeHZ1n8"
      },
      "execution_count": null,
      "outputs": []
    },
    {
      "cell_type": "markdown",
      "source": [
        "Criating a folder in my google drive"
      ],
      "metadata": {
        "id": "DwmGjPn3cXjL"
      }
    },
    {
      "cell_type": "code",
      "source": [
        "# make a new directory = mkdir\n",
        "\n",
        "! mkdir '/content/gdrive/MyDrive/Colab Notebooks/chemble data' # make a folder in this place"
      ],
      "metadata": {
        "id": "EKXeslP5cWnq"
      },
      "execution_count": null,
      "outputs": []
    },
    {
      "cell_type": "markdown",
      "source": [
        "copying file to my google drive"
      ],
      "metadata": {
        "id": "AaPh1EdDd1w_"
      }
    },
    {
      "cell_type": "code",
      "source": [
        "! cp bioactivity_covid_data.csv '/content/gdrive/MyDrive/Colab Notebooks/chemble data'\n",
        "! ls"
      ],
      "metadata": {
        "id": "AQVa55wndPOb"
      },
      "execution_count": null,
      "outputs": []
    },
    {
      "cell_type": "code",
      "source": [
        "df2 = df1[ df1['standard_value'].notna() ]\n",
        "# notna() is a metod for select only the lines with have no NaN values\n",
        "\n",
        "len(df2)\n",
        "len(df1)\n"
      ],
      "metadata": {
        "id": "8pteWQyPeJm7"
      },
      "execution_count": null,
      "outputs": []
    },
    {
      "cell_type": "markdown",
      "source": [
        "No Null values in this data set"
      ],
      "metadata": {
        "id": "n48MQ0FGSlHS"
      }
    },
    {
      "cell_type": "markdown",
      "source": [
        "## Data pre-processing"
      ],
      "metadata": {
        "id": "zh9Bi1WhS0Ev"
      }
    },
    {
      "cell_type": "markdown",
      "source": [
        "**Labeling compounds as either being active, inactive or intermediate**\n",
        "\n",
        "The bioactivity data is in the IC50 unit. Compounds having values of less than 1000 nM will be considered to be active while those greater than 10,000 nM will be considered to be inactive. As for those values in between 1,000 and 10,000 nM will be referred to as intermediate\n",
        "\n"
      ],
      "metadata": {
        "id": "-I8ZAqZJTNtN"
      }
    },
    {
      "cell_type": "markdown",
      "source": [
        " making labels"
      ],
      "metadata": {
        "id": "SqJSh1O-Ynfe"
      }
    },
    {
      "cell_type": "code",
      "source": [
        "from tqdm import tqdm\n",
        "# this is for visualization of performace of loop\n",
        "\n",
        "bioactivity = []\n",
        "\n",
        "for data in tqdm(df2['standard_value']):\n",
        "\n",
        "  if float(data) <= 1000:\n",
        "    bioactivity.append('Active')\n",
        "\n",
        "  elif float(data) >= 1000:\n",
        "    bioactivity.append('Inactive')\n",
        "\n",
        "  else:\n",
        "    bioactivity.append('Intermediate')\n",
        "\n",
        "\n",
        "bioactivity = pd.Series(bioactivity)"
      ],
      "metadata": {
        "id": "xiyDhhaUR9Sk"
      },
      "execution_count": null,
      "outputs": []
    },
    {
      "cell_type": "markdown",
      "source": [
        "making new data frame"
      ],
      "metadata": {
        "id": "sDBTAKiTZHf_"
      }
    },
    {
      "cell_type": "markdown",
      "source": [
        "Saving in CSV"
      ],
      "metadata": {
        "id": "kNI7reOfdxxe"
      }
    },
    {
      "cell_type": "code",
      "source": [
        "df2.to_csv('Pre-processing bioactyvity data.csv', index = False)\n",
        "\n",
        "! ls -l"
      ],
      "metadata": {
        "id": "qbm_Rt7zd4_H"
      },
      "execution_count": null,
      "outputs": []
    },
    {
      "cell_type": "code",
      "source": [
        "! cp Pre-processing bioactyvity data.csv \"/content/gdrive/MyDrive/Colab Notebooks/chemble data\""
      ],
      "metadata": {
        "id": "8vOG-BdteX30"
      },
      "execution_count": null,
      "outputs": []
    },
    {
      "cell_type": "code",
      "source": [
        "! ls"
      ],
      "metadata": {
        "id": "gZqYjiGoevdC"
      },
      "execution_count": null,
      "outputs": []
    }
  ]
}