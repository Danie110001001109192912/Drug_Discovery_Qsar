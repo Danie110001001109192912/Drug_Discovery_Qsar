{
  "nbformat": 4,
  "nbformat_minor": 0,
  "metadata": {
    "colab": {
      "provenance": [],
      "collapsed_sections": [
        "FMcZr_AdnRMP",
        "hpUkXi-mnh3l"
      ],
      "mount_file_id": "15stMbpMUqyxG5DyKLJ4tLdn6tbYNeF6w",
      "authorship_tag": "ABX9TyMB7B4X5LMPq7C19CBZoeMC",
      "include_colab_link": true
    },
    "kernelspec": {
      "name": "python3",
      "display_name": "Python 3"
    },
    "language_info": {
      "name": "python"
    }
  },
  "cells": [
    {
      "cell_type": "markdown",
      "metadata": {
        "id": "view-in-github",
        "colab_type": "text"
      },
      "source": [
        "<a href=\"https://colab.research.google.com/github/Danie110001001109192912/Drug_Discovery_Qsar_covid/blob/main/Qsar_covid_2.ipynb\" target=\"_parent\"><img src=\"https://colab.research.google.com/assets/colab-badge.svg\" alt=\"Open In Colab\"/></a>"
      ]
    },
    {
      "cell_type": "markdown",
      "source": [
        "#Bioinformatics Project - Computational Drug Discovery [Part 2] Exploratory Data Analysis"
      ],
      "metadata": {
        "id": "l03CqGUv6Jzy"
      }
    },
    {
      "cell_type": "markdown",
      "source": [
        "## Install conda and rdkit\n",
        "\n"
      ],
      "metadata": {
        "id": "4HNloLyg6oVK"
      }
    },
    {
      "cell_type": "code",
      "source": [
        "import sys\n",
        "print(sys.version)"
      ],
      "metadata": {
        "colab": {
          "base_uri": "https://localhost:8080/"
        },
        "id": "Kot1PCWheYIV",
        "outputId": "1ff1dc5e-25b7-4261-be6a-391f915fab5f"
      },
      "execution_count": 42,
      "outputs": [
        {
          "output_type": "stream",
          "name": "stdout",
          "text": [
            "3.10.12 (main, Jun  7 2023, 12:45:35) [GCC 9.4.0]\n"
          ]
        }
      ]
    },
    {
      "cell_type": "markdown",
      "source": [
        "## first try"
      ],
      "metadata": {
        "id": "FMcZr_AdnRMP"
      }
    },
    {
      "cell_type": "code",
      "source": [
        "# instaling conda\n",
        "! wget https://repo.anaconda.com/miniconda/Miniconda3-py37_4.8.2-Linux-x86_64.sh\n",
        "! chmod +x Miniconda3-py37_4.8.2-Linux-x86_64.sh\n",
        "! bash ./Miniconda3-py37_4.8.2-Linux-x86_64.sh -b -f -p /usr/local\n",
        "\n",
        "# instaling rdkit\n",
        "! conda install -c rdkit rdkit -y\n",
        "\n",
        "# criating new enviroment\n",
        "! conda create -c conda-forge -n my-rdkit-env rdkit -y\n",
        "\n",
        "#Finally, the new environment must be activated so that the corresponding python interpreter becomes available in the same shell:\n",
        "! conda  activate my-rdkit-env\n",
        "\n",
        "# making a path on local system\n",
        "sys.path.append('/usr/local/lib/python3.7/site-packages/')\n"
      ],
      "metadata": {
        "id": "dQRJzGJ06nwR"
      },
      "execution_count": null,
      "outputs": []
    },
    {
      "cell_type": "code",
      "source": [
        "import rdkit"
      ],
      "metadata": {
        "id": "XPtBusGymXY9"
      },
      "execution_count": 55,
      "outputs": []
    },
    {
      "cell_type": "markdown",
      "source": [
        "**Rdkit**\n",
        "\n",
        "![image.png](data:image/png;base64,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)\n",
        "\n",
        "**What is it?**\n",
        "\n",
        "Open source toolkit for cheminformatics\n",
        "Business-friendly BSD license\n",
        "\n",
        "* 2D and 3D molecular operations\n",
        "\n",
        "* Descriptor generation for machine learning\n",
        "\n",
        "* Molecular database cartridge for PostgreSQL\n",
        "\n",
        "* Cheminformatics nodes for KNIME (distributed from the KNIME community site: https://www.knime.com/rdkit)\n"
      ],
      "metadata": {
        "id": "HtmiDttLZy9F"
      }
    },
    {
      "cell_type": "markdown",
      "source": [
        "## second try"
      ],
      "metadata": {
        "id": "hpUkXi-mnh3l"
      }
    },
    {
      "cell_type": "code",
      "source": [
        "# # instaling conda\n",
        "# ! wget https://repo.anaconda.com/miniconda/Miniconda3-py37_4.8.2-Linux-x86_64.sh\n",
        "# ! chmod +x Miniconda3-py37_4.8.2-Linux-x86_64.sh\n",
        "# ! bash ./Miniconda3-py37_4.8.2-Linux-x86_64.sh -b -f -p /usr/local\n",
        "\n",
        "# # instaling rdkit\n",
        "# ! conda install -c rdkit rdkit -y\n",
        "\n",
        "# # criating new enviroment\n",
        "# ! conda create -c conda-forge -n my-rdkit-env rdkit -y\n",
        "\n",
        "# #Finally, the new environment must be activated so that the corresponding python interpreter becomes available in the same shell:\n",
        "# ! conda  activate my-rdkit-env\n",
        "\n",
        "# # making a path on local system\n",
        "# sys.path.append('/usr/local/lib/python3.7/site-packages/')\n",
        "\n",
        "# # instaling rdkit\n",
        "\n",
        "# # !pip install rdkit-pypi\n",
        "\n",
        "# # ! conda install -c rdkit rdkit -y\n",
        "\n",
        "# # # criating new enviroment\n",
        "# # ! conda create -c conda-forge -n my-rdkit-env rdkit -y\n",
        "\n",
        "# # #Finally, the new environment must be activated so that the corresponding python interpreter becomes available in the same shell:\n",
        "# # ! conda  activate my-rdkit-env\n"
      ],
      "metadata": {
        "id": "5EZtiXA_Z4tq"
      },
      "execution_count": 56,
      "outputs": []
    },
    {
      "cell_type": "code",
      "source": [
        "import rdkit"
      ],
      "metadata": {
        "id": "Pq-Hm-DFmLof"
      },
      "execution_count": 57,
      "outputs": []
    },
    {
      "cell_type": "markdown",
      "source": [
        "## pre processing\n"
      ],
      "metadata": {
        "id": "wNygbv1DcQf9"
      }
    },
    {
      "cell_type": "code",
      "execution_count": 58,
      "metadata": {
        "id": "axvN4y5p6Bmu"
      },
      "outputs": [],
      "source": [
        "import pandas as pd\n",
        "\n",
        "import rdkit\n",
        "\n",
        "from rdkit import Chem\n",
        "from rdkit.Chem import Draw"
      ]
    },
    {
      "cell_type": "code",
      "source": [
        "df = pd.read_csv('/content/drive/MyDrive/Colab Notebooks/chemble data/Pre-processing bioactyvity data.csv')\n",
        "\n",
        "df"
      ],
      "metadata": {
        "id": "QSvTmKIY61pD",
        "colab": {
          "base_uri": "https://localhost:8080/",
          "height": 485
        },
        "outputId": "8e20b0c2-9dc8-4dd0-eedf-e438840c2869"
      },
      "execution_count": 59,
      "outputs": [
        {
          "output_type": "execute_result",
          "data": {
            "text/plain": [
              "    molecule_chembl_id                                 canonical_smiles  \\\n",
              "0         CHEMBL187579           Cc1noc(C)c1CN1C(=O)C(=O)c2cc(C#N)ccc21   \n",
              "1         CHEMBL188487           O=C1C(=O)N(Cc2ccc(F)cc2Cl)c2ccc(I)cc21   \n",
              "2         CHEMBL185698          O=C1C(=O)N(CC2COc3ccccc3O2)c2ccc(I)cc21   \n",
              "3         CHEMBL426082              O=C1C(=O)N(Cc2cc3ccccc3s2)c2ccccc21   \n",
              "4         CHEMBL187717  O=C1C(=O)N(Cc2cc3ccccc3s2)c2c1cccc2[N+](=O)[O-]   \n",
              "..                 ...                                              ...   \n",
              "221                NaN                                              NaN   \n",
              "222                NaN                                              NaN   \n",
              "223                NaN                                              NaN   \n",
              "224                NaN                                              NaN   \n",
              "225                NaN                                              NaN   \n",
              "\n",
              "     standard_value bioactivity  \n",
              "0            7200.0    Inactive  \n",
              "1            9400.0    Inactive  \n",
              "2           13500.0    Inactive  \n",
              "3           13110.0      Active  \n",
              "4            2000.0    Inactive  \n",
              "..              ...         ...  \n",
              "221             NaN    Inactive  \n",
              "222             NaN    Inactive  \n",
              "223             NaN    Inactive  \n",
              "224             NaN    Inactive  \n",
              "225             NaN    Inactive  \n",
              "\n",
              "[226 rows x 4 columns]"
            ],
            "text/html": [
              "\n",
              "\n",
              "  <div id=\"df-abd747c3-5c86-4468-8e9b-b755caea5ba7\">\n",
              "    <div class=\"colab-df-container\">\n",
              "      <div>\n",
              "<style scoped>\n",
              "    .dataframe tbody tr th:only-of-type {\n",
              "        vertical-align: middle;\n",
              "    }\n",
              "\n",
              "    .dataframe tbody tr th {\n",
              "        vertical-align: top;\n",
              "    }\n",
              "\n",
              "    .dataframe thead th {\n",
              "        text-align: right;\n",
              "    }\n",
              "</style>\n",
              "<table border=\"1\" class=\"dataframe\">\n",
              "  <thead>\n",
              "    <tr style=\"text-align: right;\">\n",
              "      <th></th>\n",
              "      <th>molecule_chembl_id</th>\n",
              "      <th>canonical_smiles</th>\n",
              "      <th>standard_value</th>\n",
              "      <th>bioactivity</th>\n",
              "    </tr>\n",
              "  </thead>\n",
              "  <tbody>\n",
              "    <tr>\n",
              "      <th>0</th>\n",
              "      <td>CHEMBL187579</td>\n",
              "      <td>Cc1noc(C)c1CN1C(=O)C(=O)c2cc(C#N)ccc21</td>\n",
              "      <td>7200.0</td>\n",
              "      <td>Inactive</td>\n",
              "    </tr>\n",
              "    <tr>\n",
              "      <th>1</th>\n",
              "      <td>CHEMBL188487</td>\n",
              "      <td>O=C1C(=O)N(Cc2ccc(F)cc2Cl)c2ccc(I)cc21</td>\n",
              "      <td>9400.0</td>\n",
              "      <td>Inactive</td>\n",
              "    </tr>\n",
              "    <tr>\n",
              "      <th>2</th>\n",
              "      <td>CHEMBL185698</td>\n",
              "      <td>O=C1C(=O)N(CC2COc3ccccc3O2)c2ccc(I)cc21</td>\n",
              "      <td>13500.0</td>\n",
              "      <td>Inactive</td>\n",
              "    </tr>\n",
              "    <tr>\n",
              "      <th>3</th>\n",
              "      <td>CHEMBL426082</td>\n",
              "      <td>O=C1C(=O)N(Cc2cc3ccccc3s2)c2ccccc21</td>\n",
              "      <td>13110.0</td>\n",
              "      <td>Active</td>\n",
              "    </tr>\n",
              "    <tr>\n",
              "      <th>4</th>\n",
              "      <td>CHEMBL187717</td>\n",
              "      <td>O=C1C(=O)N(Cc2cc3ccccc3s2)c2c1cccc2[N+](=O)[O-]</td>\n",
              "      <td>2000.0</td>\n",
              "      <td>Inactive</td>\n",
              "    </tr>\n",
              "    <tr>\n",
              "      <th>...</th>\n",
              "      <td>...</td>\n",
              "      <td>...</td>\n",
              "      <td>...</td>\n",
              "      <td>...</td>\n",
              "    </tr>\n",
              "    <tr>\n",
              "      <th>221</th>\n",
              "      <td>NaN</td>\n",
              "      <td>NaN</td>\n",
              "      <td>NaN</td>\n",
              "      <td>Inactive</td>\n",
              "    </tr>\n",
              "    <tr>\n",
              "      <th>222</th>\n",
              "      <td>NaN</td>\n",
              "      <td>NaN</td>\n",
              "      <td>NaN</td>\n",
              "      <td>Inactive</td>\n",
              "    </tr>\n",
              "    <tr>\n",
              "      <th>223</th>\n",
              "      <td>NaN</td>\n",
              "      <td>NaN</td>\n",
              "      <td>NaN</td>\n",
              "      <td>Inactive</td>\n",
              "    </tr>\n",
              "    <tr>\n",
              "      <th>224</th>\n",
              "      <td>NaN</td>\n",
              "      <td>NaN</td>\n",
              "      <td>NaN</td>\n",
              "      <td>Inactive</td>\n",
              "    </tr>\n",
              "    <tr>\n",
              "      <th>225</th>\n",
              "      <td>NaN</td>\n",
              "      <td>NaN</td>\n",
              "      <td>NaN</td>\n",
              "      <td>Inactive</td>\n",
              "    </tr>\n",
              "  </tbody>\n",
              "</table>\n",
              "<p>226 rows × 4 columns</p>\n",
              "</div>\n",
              "      <button class=\"colab-df-convert\" onclick=\"convertToInteractive('df-abd747c3-5c86-4468-8e9b-b755caea5ba7')\"\n",
              "              title=\"Convert this dataframe to an interactive table.\"\n",
              "              style=\"display:none;\">\n",
              "\n",
              "  <svg xmlns=\"http://www.w3.org/2000/svg\" height=\"24px\"viewBox=\"0 0 24 24\"\n",
              "       width=\"24px\">\n",
              "    <path d=\"M0 0h24v24H0V0z\" fill=\"none\"/>\n",
              "    <path d=\"M18.56 5.44l.94 2.06.94-2.06 2.06-.94-2.06-.94-.94-2.06-.94 2.06-2.06.94zm-11 1L8.5 8.5l.94-2.06 2.06-.94-2.06-.94L8.5 2.5l-.94 2.06-2.06.94zm10 10l.94 2.06.94-2.06 2.06-.94-2.06-.94-.94-2.06-.94 2.06-2.06.94z\"/><path d=\"M17.41 7.96l-1.37-1.37c-.4-.4-.92-.59-1.43-.59-.52 0-1.04.2-1.43.59L10.3 9.45l-7.72 7.72c-.78.78-.78 2.05 0 2.83L4 21.41c.39.39.9.59 1.41.59.51 0 1.02-.2 1.41-.59l7.78-7.78 2.81-2.81c.8-.78.8-2.07 0-2.86zM5.41 20L4 18.59l7.72-7.72 1.47 1.35L5.41 20z\"/>\n",
              "  </svg>\n",
              "      </button>\n",
              "\n",
              "\n",
              "\n",
              "    <div id=\"df-425c1633-1309-45cf-9b50-6abf1ce91041\">\n",
              "      <button class=\"colab-df-quickchart\" onclick=\"quickchart('df-425c1633-1309-45cf-9b50-6abf1ce91041')\"\n",
              "              title=\"Suggest charts.\"\n",
              "              style=\"display:none;\">\n",
              "\n",
              "<svg xmlns=\"http://www.w3.org/2000/svg\" height=\"24px\"viewBox=\"0 0 24 24\"\n",
              "     width=\"24px\">\n",
              "    <g>\n",
              "        <path d=\"M19 3H5c-1.1 0-2 .9-2 2v14c0 1.1.9 2 2 2h14c1.1 0 2-.9 2-2V5c0-1.1-.9-2-2-2zM9 17H7v-7h2v7zm4 0h-2V7h2v10zm4 0h-2v-4h2v4z\"/>\n",
              "    </g>\n",
              "</svg>\n",
              "      </button>\n",
              "    </div>\n",
              "\n",
              "<style>\n",
              "  .colab-df-quickchart {\n",
              "    background-color: #E8F0FE;\n",
              "    border: none;\n",
              "    border-radius: 50%;\n",
              "    cursor: pointer;\n",
              "    display: none;\n",
              "    fill: #1967D2;\n",
              "    height: 32px;\n",
              "    padding: 0 0 0 0;\n",
              "    width: 32px;\n",
              "  }\n",
              "\n",
              "  .colab-df-quickchart:hover {\n",
              "    background-color: #E2EBFA;\n",
              "    box-shadow: 0px 1px 2px rgba(60, 64, 67, 0.3), 0px 1px 3px 1px rgba(60, 64, 67, 0.15);\n",
              "    fill: #174EA6;\n",
              "  }\n",
              "\n",
              "  [theme=dark] .colab-df-quickchart {\n",
              "    background-color: #3B4455;\n",
              "    fill: #D2E3FC;\n",
              "  }\n",
              "\n",
              "  [theme=dark] .colab-df-quickchart:hover {\n",
              "    background-color: #434B5C;\n",
              "    box-shadow: 0px 1px 3px 1px rgba(0, 0, 0, 0.15);\n",
              "    filter: drop-shadow(0px 1px 2px rgba(0, 0, 0, 0.3));\n",
              "    fill: #FFFFFF;\n",
              "  }\n",
              "</style>\n",
              "\n",
              "    <script>\n",
              "      async function quickchart(key) {\n",
              "        const containerElement = document.querySelector('#' + key);\n",
              "        const charts = await google.colab.kernel.invokeFunction(\n",
              "            'suggestCharts', [key], {});\n",
              "      }\n",
              "    </script>\n",
              "\n",
              "      <script>\n",
              "\n",
              "function displayQuickchartButton(domScope) {\n",
              "  let quickchartButtonEl =\n",
              "    domScope.querySelector('#df-425c1633-1309-45cf-9b50-6abf1ce91041 button.colab-df-quickchart');\n",
              "  quickchartButtonEl.style.display =\n",
              "    google.colab.kernel.accessAllowed ? 'block' : 'none';\n",
              "}\n",
              "\n",
              "        displayQuickchartButton(document);\n",
              "      </script>\n",
              "      <style>\n",
              "    .colab-df-container {\n",
              "      display:flex;\n",
              "      flex-wrap:wrap;\n",
              "      gap: 12px;\n",
              "    }\n",
              "\n",
              "    .colab-df-convert {\n",
              "      background-color: #E8F0FE;\n",
              "      border: none;\n",
              "      border-radius: 50%;\n",
              "      cursor: pointer;\n",
              "      display: none;\n",
              "      fill: #1967D2;\n",
              "      height: 32px;\n",
              "      padding: 0 0 0 0;\n",
              "      width: 32px;\n",
              "    }\n",
              "\n",
              "    .colab-df-convert:hover {\n",
              "      background-color: #E2EBFA;\n",
              "      box-shadow: 0px 1px 2px rgba(60, 64, 67, 0.3), 0px 1px 3px 1px rgba(60, 64, 67, 0.15);\n",
              "      fill: #174EA6;\n",
              "    }\n",
              "\n",
              "    [theme=dark] .colab-df-convert {\n",
              "      background-color: #3B4455;\n",
              "      fill: #D2E3FC;\n",
              "    }\n",
              "\n",
              "    [theme=dark] .colab-df-convert:hover {\n",
              "      background-color: #434B5C;\n",
              "      box-shadow: 0px 1px 3px 1px rgba(0, 0, 0, 0.15);\n",
              "      filter: drop-shadow(0px 1px 2px rgba(0, 0, 0, 0.3));\n",
              "      fill: #FFFFFF;\n",
              "    }\n",
              "  </style>\n",
              "\n",
              "      <script>\n",
              "        const buttonEl =\n",
              "          document.querySelector('#df-abd747c3-5c86-4468-8e9b-b755caea5ba7 button.colab-df-convert');\n",
              "        buttonEl.style.display =\n",
              "          google.colab.kernel.accessAllowed ? 'block' : 'none';\n",
              "\n",
              "        async function convertToInteractive(key) {\n",
              "          const element = document.querySelector('#df-abd747c3-5c86-4468-8e9b-b755caea5ba7');\n",
              "          const dataTable =\n",
              "            await google.colab.kernel.invokeFunction('convertToInteractive',\n",
              "                                                     [key], {});\n",
              "          if (!dataTable) return;\n",
              "\n",
              "          const docLinkHtml = 'Like what you see? Visit the ' +\n",
              "            '<a target=\"_blank\" href=https://colab.research.google.com/notebooks/data_table.ipynb>data table notebook</a>'\n",
              "            + ' to learn more about interactive tables.';\n",
              "          element.innerHTML = '';\n",
              "          dataTable['output_type'] = 'display_data';\n",
              "          await google.colab.output.renderOutput(dataTable, element);\n",
              "          const docLink = document.createElement('div');\n",
              "          docLink.innerHTML = docLinkHtml;\n",
              "          element.appendChild(docLink);\n",
              "        }\n",
              "      </script>\n",
              "    </div>\n",
              "  </div>\n"
            ]
          },
          "metadata": {},
          "execution_count": 59
        }
      ]
    },
    {
      "cell_type": "code",
      "source": [
        "smile = df['canonical_smiles'][0]\n",
        "molecule = Chem.MolFromSmiles(smile)\n",
        "Draw.MolToImage(molecule)"
      ],
      "metadata": {
        "id": "DgjrpJcceq9L",
        "colab": {
          "base_uri": "https://localhost:8080/",
          "height": 317
        },
        "outputId": "fe41cde3-615d-4fd3-e0a1-5bd8c3ebfd7c"
      },
      "execution_count": 63,
      "outputs": [
        {
          "output_type": "execute_result",
          "data": {
            "text/plain": [
              "<PIL.PngImagePlugin.PngImageFile image mode=RGB size=300x300 at 0x7D2081EBF880>"
            ],
            "image/png": "[encoded data removed]"
          },
          "metadata": {},
          "execution_count": 63
        }
      ]
    },
    {
      "cell_type": "markdown",
      "source": [],
      "metadata": {
        "id": "JQkaMn4F61EU"
      }
    }
  ]
}